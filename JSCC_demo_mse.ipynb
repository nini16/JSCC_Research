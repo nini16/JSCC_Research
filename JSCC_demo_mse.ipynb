{
 "cells": [
  {
   "cell_type": "markdown",
   "metadata": {},
   "source": [
    "# Training"
   ]
  },
  {
   "cell_type": "code",
   "execution_count": 2,
   "metadata": {
    "colab": {},
    "colab_type": "code",
    "id": "wijLAQM23t3k"
   },
   "outputs": [],
   "source": [
    "from numpy.random import seed\n",
    "seed(2)\n",
    "from tensorflow import set_random_seed\n",
    "# set_random_seed(2)"
   ]
  },
  {
   "cell_type": "code",
   "execution_count": 3,
   "metadata": {
    "colab": {
     "base_uri": "https://localhost:8080/",
     "height": 35
    },
    "colab_type": "code",
    "id": "IOOBUf5c2eEA",
    "outputId": "bc569d0a-2628-4b7b-9514-0b0c619e9371"
   },
   "outputs": [],
   "source": [
    "from keras.models import Model\n",
    "from keras.layers import Dense, GaussianNoise, Input\n",
    "from keras.layers.normalization import BatchNormalization\n",
    "from keras.utils import plot_model\n",
    "import numpy as np"
   ]
  },
  {
   "cell_type": "code",
   "execution_count": 4,
   "metadata": {
    "colab": {},
    "colab_type": "code",
    "id": "2Hz6JxpAEtCm"
   },
   "outputs": [],
   "source": [
    "# Creation of custom AWGN layer\n",
    "from keras import backend as K\n",
    "from keras.engine.topology import Layer\n",
    "\n",
    "class AWGN(Layer):\n",
    "\n",
    "    def __init__(self, stddev, **kwargs):\n",
    "        super(AWGN, self).__init__(**kwargs)\n",
    "        self.supports_masking = True\n",
    "        self.stddev = stddev\n",
    "\n",
    "    def call(self, inputs, training=None):\n",
    "        def noised():\n",
    "            return inputs + K.random_normal(shape=K.shape(inputs),\n",
    "                                            mean=0.,\n",
    "                                            stddev=self.stddev)\n",
    "        return K.in_train_phase(noised, noised, training=training)\n",
    "\n",
    "    def get_config(self):\n",
    "        config = {'stddev': self.stddev}\n",
    "        base_config = super(AWGN, self).get_config()\n",
    "        return dict(list(base_config.items()) + list(config.items()))\n",
    "\n",
    "    def compute_output_shape(self, input_shape):\n",
    "        return input_shape"
   ]
  },
  {
   "cell_type": "code",
   "execution_count": 18,
   "metadata": {
    "colab": {},
    "colab_type": "code",
    "id": "yvrLM5l_2phk"
   },
   "outputs": [],
   "source": [
    "# Dataset genetation\n",
    "signal =  [[0,0,0,0,0,0,0],\n",
    "           [1,0,0,0,0,0,0],\n",
    "           [0,1,0,0,0,0,0],\n",
    "           [0,0,1,0,0,0,0],\n",
    "           [0,0,0,1,0,0,0],\n",
    "           [0,0,0,0,1,0,0],\n",
    "           [0,0,0,0,0,1,0],\n",
    "           [0,0,0,0,0,0,1]]\n",
    "\n",
    "signal2 =  [[0,0,0,0,0,0,0,0,0,0,0,0,0,0],\n",
    "           [1,0,0,0,0,0,0,1,0,0,0,0,0,0],\n",
    "           [0,1,0,0,0,0,0,0,1,0,0,0,0,0],\n",
    "           [0,0,1,0,0,0,0,0,0,1,0,0,0,0],\n",
    "           [0,0,0,1,0,0,0,0,0,0,1,0,0,0],\n",
    "           [0,0,0,0,1,0,0,0,0,0,0,1,0,0],\n",
    "           [0,0,0,0,0,1,0,0,0,0,0,0,1,0],\n",
    "           [0,0,0,0,0,0,1,0,0,0,0,0,0,1]]\n",
    "\n",
    "target =  [[0,0,0,0,0,0,0,1],\n",
    "           [1,0,0,0,0,0,0,0],\n",
    "           [0,1,0,0,0,0,0,0],\n",
    "           [0,0,1,0,0,0,0,0],\n",
    "           [0,0,0,1,0,0,0,0],\n",
    "           [0,0,0,0,1,0,0,0],\n",
    "           [0,0,0,0,0,1,0,0],\n",
    "           [0,0,0,0,0,0,1,0]]\n",
    "\n",
    "indexes = np.random.choice(8, 100000)\n",
    "\n",
    "TrainX = np.array([signal2[i] for i in indexes[0:80000]])\n",
    "Trainy = np.array([signal[i] for i in indexes[0:80000]]) # changed target to signal for buildmodel3\n",
    "\n",
    "TestX = np.array([signal2[i] for i in indexes[80000:100000]])\n",
    "Testy = np.array([signal[i] for i in indexes[80000:100000]]) # changed target to signal for buildmodel3"
   ]
  },
  {
   "cell_type": "markdown",
   "metadata": {
    "colab_type": "text",
    "id": "p0uHUF9tWtao"
   },
   "source": [
    "k*Ec = n*Eb \n",
    "\n",
    "k = 7, n = 6\n",
    "Eb = 1     {due to batch-normalization}\n",
    "\n",
    "hence, Ec = 6/7\n",
    "\n",
    "SNR = 10∗log(6/7(No))\n",
    "where No = 2σ^2     {σ is standard deviation}\n",
    "\n",
    "∴  σ^2 = 6/( 14*10^(SNR/10) )\n",
    "\n",
    "∴  σ = √6/( 14∗10^(SNR/10) )"
   ]
  },
  {
   "cell_type": "code",
   "execution_count": 19,
   "metadata": {
    "colab": {
     "base_uri": "https://localhost:8080/",
     "height": 55
    },
    "colab_type": "code",
    "id": "72amUVtUcHXz",
    "outputId": "a93037b1-d0ea-4595-ea7f-44ac7394e1e2"
   },
   "outputs": [],
   "source": [
    "# SNR = np.arange(0.0, 8.5, 0.5)\n",
    "SNR = [0.0, 2.5, 5.0, 8.0]\n",
    "# SNR = [5.0]\n",
    "stdRange = [( 6.0/(14*(10**(snr/10))) )**.5 for snr in SNR]"
   ]
  },
  {
   "cell_type": "code",
   "execution_count": 20,
   "metadata": {},
   "outputs": [],
   "source": [
    "from keras.layers import LeakyReLU\n",
    "from keras.optimizers import Adam "
   ]
  },
  {
   "cell_type": "markdown",
   "metadata": {},
   "source": [
    "**Model Architecture**"
   ]
  },
  {
   "cell_type": "code",
   "execution_count": 21,
   "metadata": {
    "colab": {},
    "colab_type": "code",
    "id": "0_38B1wu2s1Q"
   },
   "outputs": [],
   "source": [
    "def BuildModel(std):\n",
    "#   set_random_seed(2)\n",
    "  # placeholder for input signal\n",
    "  input_sig = Input(shape=(14,))\n",
    "\n",
    "  # source-coding\n",
    "  encode = Dense(8, activation=LeakyReLU(alpha=0.1), name='dense_1')(input_sig)\n",
    "  # channel-coding\n",
    "  encode = Dense(6, activation=LeakyReLU(alpha=0.1), name='dense_2')(encode)\n",
    "  # batch-normalization\n",
    "  encode = BatchNormalization(epsilon=1e-06, center=False, scale=False, name='batch_normalization_1')(encode)\n",
    "\n",
    "  # noise layer\n",
    "  channel = AWGN( stddev=std )(encode)\n",
    "\n",
    "  # channel-decoding\n",
    "  decode = Dense(6, activation=LeakyReLU(alpha=0.1), name='dense_3')(channel)\n",
    "  # source-decoding\n",
    "#   decode = Dense(3, activation=LeakyReLU(alpha=0.1), name='dense_4')(decode)\n",
    "  # output layer\n",
    "  decode = Dense(7, activation=\"sigmoid\", name='dense_5')(decode)\n",
    "\n",
    "  model = Model(input_sig, decode)\n",
    "  return model"
   ]
  },
  {
   "cell_type": "code",
   "execution_count": null,
   "metadata": {},
   "outputs": [],
   "source": []
  },
  {
   "cell_type": "code",
   "execution_count": null,
   "metadata": {},
   "outputs": [],
   "source": []
  },
  {
   "cell_type": "code",
   "execution_count": 22,
   "metadata": {},
   "outputs": [],
   "source": [
    "# import tensorflow as tf"
   ]
  },
  {
   "cell_type": "code",
   "execution_count": 23,
   "metadata": {},
   "outputs": [],
   "source": [
    "# init = tf.global_variables_initializer()\n",
    "# with tf.Session() as sess:\n",
    "#     sess.run(init)\n",
    "#     v = sess.run(a)\n",
    "#     r = sess.run(b)\n",
    "#     print v\n",
    "#     print \"\\n\"\n",
    "#     print r\n",
    "#     sess.close()"
   ]
  },
  {
   "cell_type": "code",
   "execution_count": null,
   "metadata": {},
   "outputs": [],
   "source": []
  },
  {
   "cell_type": "code",
   "execution_count": null,
   "metadata": {},
   "outputs": [],
   "source": []
  },
  {
   "cell_type": "code",
   "execution_count": null,
   "metadata": {},
   "outputs": [],
   "source": []
  },
  {
   "cell_type": "code",
   "execution_count": null,
   "metadata": {},
   "outputs": [],
   "source": []
  },
  {
   "cell_type": "code",
   "execution_count": null,
   "metadata": {},
   "outputs": [],
   "source": []
  },
  {
   "cell_type": "code",
   "execution_count": null,
   "metadata": {},
   "outputs": [],
   "source": []
  },
  {
   "cell_type": "code",
   "execution_count": 24,
   "metadata": {
    "colab": {},
    "colab_type": "code",
    "id": "VwvswtkdfFXx"
   },
   "outputs": [],
   "source": [
    "jsccModels = [BuildModel(std) for std in stdRange]"
   ]
  },
  {
   "cell_type": "markdown",
   "metadata": {},
   "source": [
    "**Train model**"
   ]
  },
  {
   "cell_type": "code",
   "execution_count": 25,
   "metadata": {
    "colab": {
     "base_uri": "https://localhost:8080/",
     "height": 1199
    },
    "colab_type": "code",
    "id": "BDdAKTDN6SXI",
    "outputId": "cc0ef0f4-a28d-4f18-82e4-b5da543b0b94"
   },
   "outputs": [
    {
     "name": "stdout",
     "output_type": "stream",
     "text": [
      "Now compiling model with 0.0 SNR.\n",
      "\n",
      "Model compilation complete. Begin training....\n",
      "\n",
      "Train on 80000 samples, validate on 20000 samples\n",
      "Epoch 1/50\n",
      "80000/80000 [==============================] - 4s - loss: 0.1843 - acc: 0.3511 - val_loss: 0.1419 - val_acc: 0.3133\n",
      "Epoch 2/50\n",
      "80000/80000 [==============================] - 3s - loss: 0.0956 - acc: 0.5070 - val_loss: 0.0786 - val_acc: 0.5897\n",
      "Epoch 3/50\n",
      "80000/80000 [==============================] - 4s - loss: 0.0634 - acc: 0.6783 - val_loss: 0.0573 - val_acc: 0.7461\n",
      "Epoch 4/50\n",
      "80000/80000 [==============================] - 3s - loss: 0.0402 - acc: 0.8086 - val_loss: 0.0331 - val_acc: 0.8375\n",
      "Epoch 5/50\n",
      "80000/80000 [==============================] - 2s - loss: 0.0276 - acc: 0.8428 - val_loss: 0.0225 - val_acc: 0.8547\n",
      "Epoch 6/50\n",
      "80000/80000 [==============================] - 3s - loss: 0.0204 - acc: 0.8523 - val_loss: 0.0174 - val_acc: 0.8577\n",
      "Epoch 7/50\n",
      "80000/80000 [==============================] - 2s - loss: 0.0162 - acc: 0.8551 - val_loss: 0.0138 - val_acc: 0.8605\n",
      "Epoch 8/50\n",
      "80000/80000 [==============================] - 3s - loss: 0.0136 - acc: 0.8565 - val_loss: 0.0117 - val_acc: 0.8623\n",
      "Epoch 9/50\n",
      "80000/80000 [==============================] - 2s - loss: 0.0119 - acc: 0.8575 - val_loss: 0.0104 - val_acc: 0.8627\n",
      "Epoch 10/50\n",
      "80000/80000 [==============================] - 2s - loss: 0.0105 - acc: 0.8594 - val_loss: 0.0094 - val_acc: 0.8632\n",
      "Epoch 11/50\n",
      "80000/80000 [==============================] - 2s - loss: 0.0098 - acc: 0.8586 - val_loss: 0.0089 - val_acc: 0.8634\n",
      "Epoch 12/50\n",
      "80000/80000 [==============================] - 2s - loss: 0.0092 - acc: 0.8593 - val_loss: 0.0083 - val_acc: 0.8637\n",
      "Epoch 13/50\n",
      "80000/80000 [==============================] - 2s - loss: 0.0085 - acc: 0.8602 - val_loss: 0.0080 - val_acc: 0.8628\n",
      "Epoch 14/50\n",
      "80000/80000 [==============================] - 2s - loss: 0.0082 - acc: 0.8605 - val_loss: 0.0082 - val_acc: 0.8611\n",
      "Epoch 15/50\n",
      "80000/80000 [==============================] - 2s - loss: 0.0078 - acc: 0.8607 - val_loss: 0.0070 - val_acc: 0.8657\n",
      "Epoch 16/50\n",
      "80000/80000 [==============================] - 2s - loss: 0.0075 - acc: 0.8612 - val_loss: 0.0072 - val_acc: 0.8630\n",
      "Epoch 17/50\n",
      "80000/80000 [==============================] - 2s - loss: 0.0074 - acc: 0.8611 - val_loss: 0.0065 - val_acc: 0.8646\n",
      "Epoch 18/50\n",
      "80000/80000 [==============================] - 2s - loss: 0.0071 - acc: 0.8615 - val_loss: 0.0066 - val_acc: 0.8661\n",
      "Epoch 19/50\n",
      "80000/80000 [==============================] - 3s - loss: 0.0071 - acc: 0.8610 - val_loss: 0.0062 - val_acc: 0.8653\n",
      "Epoch 20/50\n",
      "80000/80000 [==============================] - 3s - loss: 0.0068 - acc: 0.8617 - val_loss: 0.0061 - val_acc: 0.8654\n",
      "Epoch 21/50\n",
      "80000/80000 [==============================] - 4s - loss: 0.0067 - acc: 0.8615 - val_loss: 0.0060 - val_acc: 0.8669\n",
      "Epoch 22/50\n",
      "80000/80000 [==============================] - 2s - loss: 0.0064 - acc: 0.8626 - val_loss: 0.0057 - val_acc: 0.8665\n",
      "Epoch 23/50\n",
      "80000/80000 [==============================] - 2s - loss: 0.0064 - acc: 0.8621 - val_loss: 0.0060 - val_acc: 0.8656\n",
      "Epoch 24/50\n",
      "80000/80000 [==============================] - 2s - loss: 0.0064 - acc: 0.8615 - val_loss: 0.0060 - val_acc: 0.8651\n",
      "Epoch 25/50\n",
      "80000/80000 [==============================] - 4s - loss: 0.0063 - acc: 0.8619 - val_loss: 0.0060 - val_acc: 0.8645\n",
      "Epoch 26/50\n",
      "80000/80000 [==============================] - 5s - loss: 0.0061 - acc: 0.8624 - val_loss: 0.0056 - val_acc: 0.8672\n",
      "Epoch 27/50\n",
      "80000/80000 [==============================] - 4s - loss: 0.0061 - acc: 0.8624 - val_loss: 0.0058 - val_acc: 0.8658\n",
      "Epoch 28/50\n",
      "80000/80000 [==============================] - 4s - loss: 0.0062 - acc: 0.8626 - val_loss: 0.0055 - val_acc: 0.8660\n",
      "Epoch 29/50\n",
      "80000/80000 [==============================] - 4s - loss: 0.0060 - acc: 0.8628 - val_loss: 0.0056 - val_acc: 0.8656\n",
      "Epoch 30/50\n",
      "80000/80000 [==============================] - 3s - loss: 0.0060 - acc: 0.8626 - val_loss: 0.0054 - val_acc: 0.8672\n",
      "Epoch 31/50\n",
      "80000/80000 [==============================] - 4s - loss: 0.0059 - acc: 0.8629 - val_loss: 0.0053 - val_acc: 0.8670\n",
      "Epoch 32/50\n",
      "80000/80000 [==============================] - 2s - loss: 0.0059 - acc: 0.8623 - val_loss: 0.0054 - val_acc: 0.8654\n",
      "Epoch 33/50\n",
      "80000/80000 [==============================] - 3s - loss: 0.0061 - acc: 0.8623 - val_loss: 0.0052 - val_acc: 0.8666\n",
      "Epoch 34/50\n",
      "80000/80000 [==============================] - 3s - loss: 0.0059 - acc: 0.8627 - val_loss: 0.0053 - val_acc: 0.8661\n",
      "Epoch 35/50\n",
      "80000/80000 [==============================] - 5s - loss: 0.0059 - acc: 0.8623 - val_loss: 0.0054 - val_acc: 0.8661\n",
      "Epoch 36/50\n",
      "80000/80000 [==============================] - 3s - loss: 0.0059 - acc: 0.8628 - val_loss: 0.0055 - val_acc: 0.8671\n",
      "Epoch 37/50\n",
      "80000/80000 [==============================] - 2s - loss: 0.0058 - acc: 0.8623 - val_loss: 0.0056 - val_acc: 0.8657\n",
      "Epoch 38/50\n",
      "80000/80000 [==============================] - 4s - loss: 0.0059 - acc: 0.8621 - val_loss: 0.0054 - val_acc: 0.8667\n",
      "Epoch 39/50\n",
      "80000/80000 [==============================] - 3s - loss: 0.0058 - acc: 0.8624 - val_loss: 0.0054 - val_acc: 0.8659\n",
      "Epoch 40/50\n",
      "80000/80000 [==============================] - 4s - loss: 0.0058 - acc: 0.8626 - val_loss: 0.0054 - val_acc: 0.8661\n",
      "Epoch 41/50\n",
      "80000/80000 [==============================] - 2s - loss: 0.0056 - acc: 0.8630 - val_loss: 0.0052 - val_acc: 0.8666\n",
      "Epoch 42/50\n",
      "80000/80000 [==============================] - 2s - loss: 0.0057 - acc: 0.8625 - val_loss: 0.0051 - val_acc: 0.8661\n",
      "Epoch 43/50\n",
      "80000/80000 [==============================] - 2s - loss: 0.0057 - acc: 0.8630 - val_loss: 0.0052 - val_acc: 0.8661\n",
      "Epoch 44/50\n",
      "80000/80000 [==============================] - 2s - loss: 0.0057 - acc: 0.8629 - val_loss: 0.0051 - val_acc: 0.8669\n",
      "Epoch 45/50\n",
      "80000/80000 [==============================] - 2s - loss: 0.0058 - acc: 0.8624 - val_loss: 0.0052 - val_acc: 0.8651\n",
      "Epoch 46/50\n",
      "80000/80000 [==============================] - 2s - loss: 0.0058 - acc: 0.8627 - val_loss: 0.0051 - val_acc: 0.8665\n",
      "Epoch 47/50\n",
      "80000/80000 [==============================] - 2s - loss: 0.0057 - acc: 0.8627 - val_loss: 0.0053 - val_acc: 0.8659\n",
      "Epoch 48/50\n",
      "80000/80000 [==============================] - 2s - loss: 0.0056 - acc: 0.8629 - val_loss: 0.0052 - val_acc: 0.8674\n",
      "Epoch 49/50\n",
      "80000/80000 [==============================] - 2s - loss: 0.0056 - acc: 0.8630 - val_loss: 0.0049 - val_acc: 0.8659\n",
      "Epoch 50/50\n",
      "80000/80000 [==============================] - 2s - loss: 0.0056 - acc: 0.8632 - val_loss: 0.0049 - val_acc: 0.8674\n",
      "Training model with 0.0 SNR complete. Next.\n",
      "\n",
      "Now compiling model with 2.5 SNR.\n",
      "\n",
      "Model compilation complete. Begin training....\n",
      "\n",
      "Train on 80000 samples, validate on 20000 samples\n",
      "Epoch 1/50\n",
      "80000/80000 [==============================] - 3s - loss: 0.1499 - acc: 0.4749 - val_loss: 0.1081 - val_acc: 0.5793\n",
      "Epoch 2/50\n",
      "80000/80000 [==============================] - 2s - loss: 0.0648 - acc: 0.7820 - val_loss: 0.0481 - val_acc: 0.8594\n",
      "Epoch 3/50\n",
      "80000/80000 [==============================] - 2s - loss: 0.0324 - acc: 0.8704 - val_loss: 0.0231 - val_acc: 0.8746\n",
      "Epoch 4/50\n",
      "80000/80000 [==============================] - 2s - loss: 0.0187 - acc: 0.8724 - val_loss: 0.0149 - val_acc: 0.8757\n",
      "Epoch 5/50\n",
      "80000/80000 [==============================] - 2s - loss: 0.0123 - acc: 0.8738 - val_loss: 0.0098 - val_acc: 0.8776\n",
      "Epoch 6/50\n",
      "80000/80000 [==============================] - 2s - loss: 0.0088 - acc: 0.8760 - val_loss: 0.0070 - val_acc: 0.8801\n",
      "Epoch 7/50\n",
      "80000/80000 [==============================] - 2s - loss: 0.0065 - acc: 0.8817 - val_loss: 0.0050 - val_acc: 0.8858\n",
      "Epoch 8/50\n",
      "80000/80000 [==============================] - 2s - loss: 0.0051 - acc: 0.8866 - val_loss: 0.0040 - val_acc: 0.8891\n",
      "Epoch 9/50\n",
      "80000/80000 [==============================] - 2s - loss: 0.0041 - acc: 0.8877 - val_loss: 0.0034 - val_acc: 0.8910\n",
      "Epoch 10/50\n",
      "80000/80000 [==============================] - 2s - loss: 0.0034 - acc: 0.8899 - val_loss: 0.0025 - val_acc: 0.8900\n",
      "Epoch 11/50\n",
      "80000/80000 [==============================] - 2s - loss: 0.0029 - acc: 0.8910 - val_loss: 0.0026 - val_acc: 0.8923\n",
      "Epoch 12/50\n"
     ]
    },
    {
     "name": "stdout",
     "output_type": "stream",
     "text": [
      "80000/80000 [==============================] - 2s - loss: 0.0025 - acc: 0.8912 - val_loss: 0.0020 - val_acc: 0.8919\n",
      "Epoch 13/50\n",
      "80000/80000 [==============================] - 2s - loss: 0.0022 - acc: 0.8911 - val_loss: 0.0018 - val_acc: 0.8924\n",
      "Epoch 14/50\n",
      "80000/80000 [==============================] - 2s - loss: 0.0020 - acc: 0.8913 - val_loss: 0.0017 - val_acc: 0.8959\n",
      "Epoch 15/50\n",
      "80000/80000 [==============================] - 2s - loss: 0.0018 - acc: 0.8917 - val_loss: 0.0013 - val_acc: 0.8955\n",
      "Epoch 16/50\n",
      "80000/80000 [==============================] - 2s - loss: 0.0017 - acc: 0.8911 - val_loss: 0.0014 - val_acc: 0.8925\n",
      "Epoch 17/50\n",
      "80000/80000 [==============================] - 2s - loss: 0.0016 - acc: 0.8924 - val_loss: 0.0015 - val_acc: 0.8942\n",
      "Epoch 18/50\n",
      "80000/80000 [==============================] - 2s - loss: 0.0015 - acc: 0.8918 - val_loss: 0.0013 - val_acc: 0.8942\n",
      "Epoch 19/50\n",
      "80000/80000 [==============================] - 3s - loss: 0.0014 - acc: 0.8917 - val_loss: 0.0012 - val_acc: 0.8934\n",
      "Epoch 20/50\n",
      "80000/80000 [==============================] - 2s - loss: 0.0014 - acc: 0.8907 - val_loss: 9.9605e-04 - val_acc: 0.8916\n",
      "Epoch 21/50\n",
      "80000/80000 [==============================] - 2s - loss: 0.0013 - acc: 0.8911 - val_loss: 0.0010 - val_acc: 0.8948\n",
      "Epoch 22/50\n",
      "80000/80000 [==============================] - 2s - loss: 0.0013 - acc: 0.8915 - val_loss: 0.0010 - val_acc: 0.8944\n",
      "Epoch 23/50\n",
      "80000/80000 [==============================] - 2s - loss: 0.0013 - acc: 0.8912 - val_loss: 9.4453e-04 - val_acc: 0.8929\n",
      "Epoch 24/50\n",
      "80000/80000 [==============================] - 2s - loss: 0.0012 - acc: 0.8915 - val_loss: 9.3337e-04 - val_acc: 0.8951\n",
      "Epoch 25/50\n",
      "80000/80000 [==============================] - 2s - loss: 0.0011 - acc: 0.8923 - val_loss: 9.5807e-04 - val_acc: 0.8934\n",
      "Epoch 26/50\n",
      "80000/80000 [==============================] - 2s - loss: 0.0011 - acc: 0.8928 - val_loss: 7.8108e-04 - val_acc: 0.8959\n",
      "Epoch 27/50\n",
      "80000/80000 [==============================] - 2s - loss: 0.0011 - acc: 0.8918 - val_loss: 9.8880e-04 - val_acc: 0.8958\n",
      "Epoch 28/50\n",
      "80000/80000 [==============================] - 2s - loss: 0.0011 - acc: 0.8943 - val_loss: 7.7071e-04 - val_acc: 0.8976\n",
      "Epoch 29/50\n",
      "80000/80000 [==============================] - 2s - loss: 0.0010 - acc: 0.8920 - val_loss: 8.5485e-04 - val_acc: 0.8937\n",
      "Epoch 30/50\n",
      "80000/80000 [==============================] - 2s - loss: 0.0010 - acc: 0.8930 - val_loss: 0.0011 - val_acc: 0.8950\n",
      "Epoch 31/50\n",
      "80000/80000 [==============================] - 2s - loss: 0.0011 - acc: 0.8906 - val_loss: 8.9780e-04 - val_acc: 0.8937\n",
      "Epoch 32/50\n",
      "80000/80000 [==============================] - 2s - loss: 9.7500e-04 - acc: 0.8916 - val_loss: 7.5683e-04 - val_acc: 0.8958\n",
      "Epoch 33/50\n",
      "80000/80000 [==============================] - 2s - loss: 0.0010 - acc: 0.8918 - val_loss: 9.6078e-04 - val_acc: 0.8936\n",
      "Epoch 34/50\n",
      "80000/80000 [==============================] - 2s - loss: 9.5266e-04 - acc: 0.8937 - val_loss: 9.6308e-04 - val_acc: 0.8947\n",
      "Epoch 35/50\n",
      "80000/80000 [==============================] - 2s - loss: 9.5432e-04 - acc: 0.8933 - val_loss: 7.4007e-04 - val_acc: 0.8985\n",
      "Epoch 36/50\n",
      "80000/80000 [==============================] - 2s - loss: 9.4541e-04 - acc: 0.8922 - val_loss: 7.8018e-04 - val_acc: 0.8933\n",
      "Epoch 37/50\n",
      "80000/80000 [==============================] - 2s - loss: 0.0010 - acc: 0.8918 - val_loss: 6.8520e-04 - val_acc: 0.8949\n",
      "Epoch 38/50\n",
      "80000/80000 [==============================] - 2s - loss: 0.0010 - acc: 0.8917 - val_loss: 7.5294e-04 - val_acc: 0.8952\n",
      "Epoch 39/50\n",
      "80000/80000 [==============================] - 2s - loss: 9.7456e-04 - acc: 0.8932 - val_loss: 8.1947e-04 - val_acc: 0.8948\n",
      "Epoch 40/50\n",
      "80000/80000 [==============================] - 2s - loss: 9.4001e-04 - acc: 0.8929 - val_loss: 9.5687e-04 - val_acc: 0.8968\n",
      "Epoch 41/50\n",
      "80000/80000 [==============================] - 2s - loss: 8.6679e-04 - acc: 0.8945 - val_loss: 7.9214e-04 - val_acc: 0.8971\n",
      "Epoch 42/50\n",
      "80000/80000 [==============================] - 2s - loss: 9.3807e-04 - acc: 0.8953 - val_loss: 9.1088e-04 - val_acc: 0.8936\n",
      "Epoch 43/50\n",
      "80000/80000 [==============================] - 3s - loss: 9.2111e-04 - acc: 0.8940 - val_loss: 6.3964e-04 - val_acc: 0.8975\n",
      "Epoch 44/50\n",
      "80000/80000 [==============================] - 4s - loss: 9.5506e-04 - acc: 0.8950 - val_loss: 7.2707e-04 - val_acc: 0.8982\n",
      "Epoch 45/50\n",
      "80000/80000 [==============================] - 3s - loss: 9.5410e-04 - acc: 0.8951 - val_loss: 5.3371e-04 - val_acc: 0.8960\n",
      "Epoch 46/50\n",
      "80000/80000 [==============================] - 2s - loss: 9.4493e-04 - acc: 0.8940 - val_loss: 6.3186e-04 - val_acc: 0.8951\n",
      "Epoch 47/50\n",
      "80000/80000 [==============================] - 2s - loss: 8.6097e-04 - acc: 0.8938 - val_loss: 8.3462e-04 - val_acc: 0.8978\n",
      "Epoch 48/50\n",
      "80000/80000 [==============================] - 2s - loss: 8.9170e-04 - acc: 0.8938 - val_loss: 6.1061e-04 - val_acc: 0.8972\n",
      "Epoch 49/50\n",
      "80000/80000 [==============================] - 2s - loss: 8.7093e-04 - acc: 0.8967 - val_loss: 7.3882e-04 - val_acc: 0.9001\n",
      "Epoch 50/50\n",
      "80000/80000 [==============================] - 2s - loss: 8.8160e-04 - acc: 0.8938 - val_loss: 5.8375e-04 - val_acc: 0.8951\n",
      "Training model with 2.5 SNR complete. Next.\n",
      "\n",
      "Now compiling model with 5.0 SNR.\n",
      "\n",
      "Model compilation complete. Begin training....\n",
      "\n",
      "Train on 80000 samples, validate on 20000 samples\n",
      "Epoch 1/50\n",
      "80000/80000 [==============================] - 2s - loss: 0.2114 - acc: 0.3131 - val_loss: 0.1664 - val_acc: 0.4596\n",
      "Epoch 2/50\n",
      "80000/80000 [==============================] - 2s - loss: 0.1022 - acc: 0.7008 - val_loss: 0.0703 - val_acc: 0.7168\n",
      "Epoch 3/50\n",
      "80000/80000 [==============================] - 2s - loss: 0.0522 - acc: 0.7955 - val_loss: 0.0396 - val_acc: 0.8352\n",
      "Epoch 4/50\n",
      "80000/80000 [==============================] - 4s - loss: 0.0306 - acc: 0.8683 - val_loss: 0.0219 - val_acc: 0.8863\n",
      "Epoch 5/50\n",
      "80000/80000 [==============================] - 3s - loss: 0.0158 - acc: 0.8899 - val_loss: 0.0109 - val_acc: 0.8959\n",
      "Epoch 6/50\n",
      "80000/80000 [==============================] - 4s - loss: 0.0089 - acc: 0.8967 - val_loss: 0.0067 - val_acc: 0.9016\n",
      "Epoch 7/50\n",
      "80000/80000 [==============================] - 5s - loss: 0.0057 - acc: 0.9023 - val_loss: 0.0044 - val_acc: 0.9055\n",
      "Epoch 8/50\n",
      "80000/80000 [==============================] - 5s - loss: 0.0039 - acc: 0.9039 - val_loss: 0.0030 - val_acc: 0.9083\n",
      "Epoch 9/50\n",
      "80000/80000 [==============================] - 5s - loss: 0.0029 - acc: 0.9048 - val_loss: 0.0023 - val_acc: 0.9076\n",
      "Epoch 10/50\n",
      "80000/80000 [==============================] - 4s - loss: 0.0022 - acc: 0.9069 - val_loss: 0.0017 - val_acc: 0.9056\n",
      "Epoch 11/50\n",
      "80000/80000 [==============================] - 4s - loss: 0.0017 - acc: 0.9052 - val_loss: 0.0013 - val_acc: 0.9079\n",
      "Epoch 12/50\n",
      "80000/80000 [==============================] - 4s - loss: 0.0013 - acc: 0.9054 - val_loss: 0.0011 - val_acc: 0.9056\n",
      "Epoch 13/50\n",
      "80000/80000 [==============================] - 4s - loss: 0.0011 - acc: 0.9052 - val_loss: 8.2868e-04 - val_acc: 0.9075\n",
      "Epoch 14/50\n",
      "80000/80000 [==============================] - 4s - loss: 8.6104e-04 - acc: 0.9058 - val_loss: 6.5604e-04 - val_acc: 0.9087\n",
      "Epoch 15/50\n",
      "80000/80000 [==============================] - 4s - loss: 7.1618e-04 - acc: 0.9058 - val_loss: 6.2281e-04 - val_acc: 0.9071\n",
      "Epoch 16/50\n",
      "80000/80000 [==============================] - 3s - loss: 5.8695e-04 - acc: 0.9035 - val_loss: 4.0970e-04 - val_acc: 0.9050\n",
      "Epoch 17/50\n",
      "80000/80000 [==============================] - 4s - loss: 4.8344e-04 - acc: 0.9005 - val_loss: 3.6872e-04 - val_acc: 0.8992\n",
      "Epoch 18/50\n",
      "80000/80000 [==============================] - 3s - loss: 4.0232e-04 - acc: 0.8992 - val_loss: 2.6661e-04 - val_acc: 0.8989\n",
      "Epoch 19/50\n",
      "80000/80000 [==============================] - 4s - loss: 3.5770e-04 - acc: 0.8969 - val_loss: 2.5670e-04 - val_acc: 0.9000\n",
      "Epoch 20/50\n",
      "80000/80000 [==============================] - 6s - loss: 2.9290e-04 - acc: 0.8926 - val_loss: 1.9486e-04 - val_acc: 0.8915\n",
      "Epoch 21/50\n",
      "80000/80000 [==============================] - 5s - loss: 2.5246e-04 - acc: 0.8912 - val_loss: 1.5529e-04 - val_acc: 0.8916\n",
      "Epoch 22/50\n"
     ]
    },
    {
     "name": "stdout",
     "output_type": "stream",
     "text": [
      "80000/80000 [==============================] - 6s - loss: 2.2787e-04 - acc: 0.8900 - val_loss: 1.5607e-04 - val_acc: 0.8930\n",
      "Epoch 23/50\n",
      "80000/80000 [==============================] - 5s - loss: 1.9131e-04 - acc: 0.8877 - val_loss: 1.7924e-04 - val_acc: 0.8909\n",
      "Epoch 24/50\n",
      "80000/80000 [==============================] - 4s - loss: 1.7731e-04 - acc: 0.8882 - val_loss: 1.4613e-04 - val_acc: 0.8930\n",
      "Epoch 25/50\n",
      "80000/80000 [==============================] - 5s - loss: 1.6780e-04 - acc: 0.8884 - val_loss: 1.0689e-04 - val_acc: 0.8890\n",
      "Epoch 26/50\n",
      "80000/80000 [==============================] - 6s - loss: 1.4315e-04 - acc: 0.8881 - val_loss: 9.7213e-05 - val_acc: 0.8886 loss: 1.4439e-04 - acc:\n",
      "Epoch 27/50\n",
      "80000/80000 [==============================] - 6s - loss: 1.4446e-04 - acc: 0.8878 - val_loss: 8.8237e-05 - val_acc: 0.8883\n",
      "Epoch 28/50\n",
      "80000/80000 [==============================] - 2s - loss: 1.2299e-04 - acc: 0.8861 - val_loss: 8.3103e-05 - val_acc: 0.8876\n",
      "Epoch 29/50\n",
      "80000/80000 [==============================] - 2s - loss: 1.1749e-04 - acc: 0.8864 - val_loss: 8.5490e-05 - val_acc: 0.8876\n",
      "Epoch 30/50\n",
      "80000/80000 [==============================] - 4s - loss: 1.1427e-04 - acc: 0.8850 - val_loss: 9.3114e-05 - val_acc: 0.8853\n",
      "Epoch 31/50\n",
      "80000/80000 [==============================] - 3s - loss: 9.9231e-05 - acc: 0.8827 - val_loss: 5.9852e-05 - val_acc: 0.8840\n",
      "Epoch 32/50\n",
      "80000/80000 [==============================] - 2s - loss: 8.5474e-05 - acc: 0.8836 - val_loss: 5.4195e-05 - val_acc: 0.8845\n",
      "Epoch 33/50\n",
      "80000/80000 [==============================] - 2s - loss: 8.8929e-05 - acc: 0.8834 - val_loss: 5.6640e-05 - val_acc: 0.8836\n",
      "Epoch 34/50\n",
      "80000/80000 [==============================] - 3s - loss: 8.3650e-05 - acc: 0.8830 - val_loss: 5.7643e-05 - val_acc: 0.8828\n",
      "Epoch 35/50\n",
      "80000/80000 [==============================] - 3s - loss: 9.4439e-05 - acc: 0.8811 - val_loss: 5.9421e-05 - val_acc: 0.8824\n",
      "Epoch 36/50\n",
      "80000/80000 [==============================] - 3s - loss: 8.5401e-05 - acc: 0.8818 - val_loss: 6.4702e-05 - val_acc: 0.8830\n",
      "Epoch 37/50\n",
      "80000/80000 [==============================] - 3s - loss: 7.9742e-05 - acc: 0.8825 - val_loss: 7.4438e-05 - val_acc: 0.8845\n",
      "Epoch 38/50\n",
      "80000/80000 [==============================] - 4s - loss: 7.4492e-05 - acc: 0.8813 - val_loss: 5.3861e-05 - val_acc: 0.8827\n",
      "Epoch 39/50\n",
      "80000/80000 [==============================] - 3s - loss: 6.8893e-05 - acc: 0.8827 - val_loss: 3.6382e-05 - val_acc: 0.8830\n",
      "Epoch 40/50\n",
      "80000/80000 [==============================] - 3s - loss: 6.6421e-05 - acc: 0.8808 - val_loss: 6.6194e-05 - val_acc: 0.8841\n",
      "Epoch 41/50\n",
      "80000/80000 [==============================] - 3s - loss: 7.4236e-05 - acc: 0.8805 - val_loss: 4.3513e-05 - val_acc: 0.8814\n",
      "Epoch 42/50\n",
      "80000/80000 [==============================] - 3s - loss: 6.7995e-05 - acc: 0.8803 - val_loss: 3.5251e-05 - val_acc: 0.8819\n",
      "Epoch 43/50\n",
      "80000/80000 [==============================] - 4s - loss: 7.0013e-05 - acc: 0.8810 - val_loss: 6.9987e-05 - val_acc: 0.8841\n",
      "Epoch 44/50\n",
      "80000/80000 [==============================] - 2s - loss: 7.1369e-05 - acc: 0.8795 - val_loss: 3.7580e-05 - val_acc: 0.8806\n",
      "Epoch 45/50\n",
      "80000/80000 [==============================] - 3s - loss: 6.5763e-05 - acc: 0.8791 - val_loss: 4.9134e-05 - val_acc: 0.8814\n",
      "Epoch 46/50\n",
      "80000/80000 [==============================] - 3s - loss: 6.6301e-05 - acc: 0.8801 - val_loss: 3.3343e-05 - val_acc: 0.8813\n",
      "Epoch 47/50\n",
      "80000/80000 [==============================] - 2s - loss: 5.9320e-05 - acc: 0.8788 - val_loss: 4.7668e-05 - val_acc: 0.8802\n",
      "Epoch 48/50\n",
      "80000/80000 [==============================] - 3s - loss: 5.7030e-05 - acc: 0.8782 - val_loss: 3.2258e-05 - val_acc: 0.8800\n",
      "Epoch 49/50\n",
      "80000/80000 [==============================] - 4s - loss: 5.3414e-05 - acc: 0.8799 - val_loss: 4.0619e-05 - val_acc: 0.8825\n",
      "Epoch 50/50\n",
      "80000/80000 [==============================] - 3s - loss: 5.8684e-05 - acc: 0.8791 - val_loss: 3.9611e-05 - val_acc: 0.8806\n",
      "Training model with 5.0 SNR complete. Next.\n",
      "\n",
      "Now compiling model with 8.0 SNR.\n",
      "\n",
      "Model compilation complete. Begin training....\n",
      "\n",
      "Train on 80000 samples, validate on 20000 samples\n",
      "Epoch 1/50\n",
      "80000/80000 [==============================] - 3s - loss: 0.1523 - acc: 0.5416 - val_loss: 0.1313 - val_acc: 0.6327\n",
      "Epoch 2/50\n",
      "80000/80000 [==============================] - 4s - loss: 0.0608 - acc: 0.7930 - val_loss: 0.0401 - val_acc: 0.9159\n",
      "Epoch 3/50\n",
      "80000/80000 [==============================] - 3s - loss: 0.0241 - acc: 0.9223 - val_loss: 0.0147 - val_acc: 0.9190\n",
      "Epoch 4/50\n",
      "80000/80000 [==============================] - 3s - loss: 0.0106 - acc: 0.9173 - val_loss: 0.0069 - val_acc: 0.9120\n",
      "Epoch 5/50\n",
      "80000/80000 [==============================] - 3s - loss: 0.0055 - acc: 0.9136 - val_loss: 0.0038 - val_acc: 0.9124\n",
      "Epoch 6/50\n",
      "80000/80000 [==============================] - 4s - loss: 0.0033 - acc: 0.9111 - val_loss: 0.0023 - val_acc: 0.9141\n",
      "Epoch 7/50\n",
      "80000/80000 [==============================] - 4s - loss: 0.0021 - acc: 0.9095 - val_loss: 0.0016 - val_acc: 0.9121\n",
      "Epoch 8/50\n",
      "80000/80000 [==============================] - 3s - loss: 0.0014 - acc: 0.9108 - val_loss: 0.0010 - val_acc: 0.9143\n",
      "Epoch 9/50\n",
      "80000/80000 [==============================] - 2s - loss: 0.0010 - acc: 0.9116 - val_loss: 7.4455e-04 - val_acc: 0.9153\n",
      "Epoch 10/50\n",
      "80000/80000 [==============================] - 3s - loss: 7.2826e-04 - acc: 0.9130 - val_loss: 5.2191e-04 - val_acc: 0.9150\n",
      "Epoch 11/50\n",
      "80000/80000 [==============================] - 2s - loss: 5.3789e-04 - acc: 0.9143 - val_loss: 3.9435e-04 - val_acc: 0.9164\n",
      "Epoch 12/50\n",
      "80000/80000 [==============================] - 2s - loss: 4.1730e-04 - acc: 0.9133 - val_loss: 2.7997e-04 - val_acc: 0.9185\n",
      "Epoch 13/50\n",
      "80000/80000 [==============================] - 2s - loss: 3.1998e-04 - acc: 0.9145 - val_loss: 2.1954e-04 - val_acc: 0.9151\n",
      "Epoch 14/50\n",
      "80000/80000 [==============================] - 3s - loss: 2.4950e-04 - acc: 0.9143 - val_loss: 1.5643e-04 - val_acc: 0.9165\n",
      "Epoch 15/50\n",
      "80000/80000 [==============================] - 3s - loss: 1.9381e-04 - acc: 0.9144 - val_loss: 1.2731e-04 - val_acc: 0.9154\n",
      "Epoch 16/50\n",
      "80000/80000 [==============================] - 3s - loss: 1.5371e-04 - acc: 0.9145 - val_loss: 1.0432e-04 - val_acc: 0.9157\n",
      "Epoch 17/50\n",
      "80000/80000 [==============================] - 3s - loss: 1.1981e-04 - acc: 0.9144 - val_loss: 7.6854e-05 - val_acc: 0.9164\n",
      "Epoch 18/50\n",
      "80000/80000 [==============================] - 4s - loss: 9.7193e-05 - acc: 0.9171 - val_loss: 6.6064e-05 - val_acc: 0.9227\n",
      "Epoch 19/50\n",
      "80000/80000 [==============================] - 3s - loss: 7.5267e-05 - acc: 0.9166 - val_loss: 6.3413e-05 - val_acc: 0.9188\n",
      "Epoch 20/50\n",
      "80000/80000 [==============================] - 2s - loss: 6.1427e-05 - acc: 0.9162 - val_loss: 3.5132e-05 - val_acc: 0.9180\n",
      "Epoch 21/50\n",
      "80000/80000 [==============================] - 3s - loss: 5.1597e-05 - acc: 0.9168 - val_loss: 3.9081e-05 - val_acc: 0.9221\n",
      "Epoch 22/50\n",
      "80000/80000 [==============================] - 4s - loss: 4.1380e-05 - acc: 0.9235 - val_loss: 2.7579e-05 - val_acc: 0.9284\n",
      "Epoch 23/50\n",
      "80000/80000 [==============================] - 2s - loss: 3.4801e-05 - acc: 0.9224 - val_loss: 2.5488e-05 - val_acc: 0.9268\n",
      "Epoch 24/50\n",
      "80000/80000 [==============================] - 4s - loss: 2.7597e-05 - acc: 0.9201 - val_loss: 1.6227e-05 - val_acc: 0.9228\n",
      "Epoch 25/50\n",
      "80000/80000 [==============================] - 4s - loss: 2.4137e-05 - acc: 0.9216 - val_loss: 1.2124e-05 - val_acc: 0.9237\n",
      "Epoch 26/50\n",
      "80000/80000 [==============================] - 4s - loss: 1.8508e-05 - acc: 0.9209 - val_loss: 1.0678e-05 - val_acc: 0.9178\n",
      "Epoch 27/50\n",
      "80000/80000 [==============================] - 3s - loss: 1.5526e-05 - acc: 0.9203 - val_loss: 8.6584e-06 - val_acc: 0.9278\n",
      "Epoch 28/50\n",
      "80000/80000 [==============================] - 3s - loss: 1.4723e-05 - acc: 0.9209 - val_loss: 7.8006e-06 - val_acc: 0.9200\n",
      "Epoch 29/50\n",
      "80000/80000 [==============================] - 3s - loss: 1.1094e-05 - acc: 0.9172 - val_loss: 6.3512e-06 - val_acc: 0.9179\n",
      "Epoch 30/50\n",
      "80000/80000 [==============================] - 3s - loss: 1.1031e-05 - acc: 0.9210 - val_loss: 5.6922e-06 - val_acc: 0.9277\n",
      "Epoch 31/50\n"
     ]
    },
    {
     "name": "stdout",
     "output_type": "stream",
     "text": [
      "80000/80000 [==============================] - 3s - loss: 7.9303e-06 - acc: 0.9248 - val_loss: 4.0490e-06 - val_acc: 0.9253\n",
      "Epoch 32/50\n",
      "80000/80000 [==============================] - 5s - loss: 9.1626e-06 - acc: 0.9200 - val_loss: 4.0578e-06 - val_acc: 0.9305\n",
      "Epoch 33/50\n",
      "80000/80000 [==============================] - 4s - loss: 8.2426e-06 - acc: 0.9237 - val_loss: 2.5772e-06 - val_acc: 0.9310\n",
      "Epoch 34/50\n",
      "80000/80000 [==============================] - 4s - loss: 5.6868e-06 - acc: 0.9269 - val_loss: 2.3208e-06 - val_acc: 0.9230\n",
      "Epoch 35/50\n",
      "80000/80000 [==============================] - 4s - loss: 5.4266e-06 - acc: 0.9225 - val_loss: 2.4215e-06 - val_acc: 0.9254\n",
      "Epoch 36/50\n",
      "80000/80000 [==============================] - 4s - loss: 5.1560e-06 - acc: 0.9215 - val_loss: 2.8418e-06 - val_acc: 0.9287\n",
      "Epoch 37/50\n",
      "80000/80000 [==============================] - 5s - loss: 4.4107e-06 - acc: 0.9165 - val_loss: 1.8433e-06 - val_acc: 0.9209\n",
      "Epoch 38/50\n",
      "80000/80000 [==============================] - 3s - loss: 5.6832e-06 - acc: 0.9193 - val_loss: 2.0958e-06 - val_acc: 0.9154\n",
      "Epoch 39/50\n",
      "80000/80000 [==============================] - 3s - loss: 4.0519e-06 - acc: 0.9215 - val_loss: 1.4106e-06 - val_acc: 0.9258\n",
      "Epoch 40/50\n",
      "80000/80000 [==============================] - 2s - loss: 2.9073e-06 - acc: 0.9181 - val_loss: 1.3338e-06 - val_acc: 0.9266\n",
      "Epoch 41/50\n",
      "80000/80000 [==============================] - 2s - loss: 3.9195e-06 - acc: 0.9144 - val_loss: 1.4291e-06 - val_acc: 0.9097\n",
      "Epoch 42/50\n",
      "80000/80000 [==============================] - 2s - loss: 4.4160e-06 - acc: 0.9125 - val_loss: 1.3887e-06 - val_acc: 0.9259\n",
      "Epoch 43/50\n",
      "80000/80000 [==============================] - 2s - loss: 3.9440e-06 - acc: 0.9165 - val_loss: 1.3247e-06 - val_acc: 0.9137\n",
      "Epoch 44/50\n",
      "80000/80000 [==============================] - 2s - loss: 2.7214e-06 - acc: 0.9145 - val_loss: 1.2242e-06 - val_acc: 0.9272\n",
      "Epoch 45/50\n",
      "80000/80000 [==============================] - 2s - loss: 3.1294e-06 - acc: 0.9206 - val_loss: 1.1456e-06 - val_acc: 0.9196\n",
      "Epoch 46/50\n",
      "80000/80000 [==============================] - 2s - loss: 4.6838e-06 - acc: 0.9099 - val_loss: 1.2286e-06 - val_acc: 0.9166\n",
      "Epoch 47/50\n",
      "80000/80000 [==============================] - 2s - loss: 2.5775e-06 - acc: 0.9262 - val_loss: 3.3922e-06 - val_acc: 0.9333\n",
      "Epoch 48/50\n",
      "80000/80000 [==============================] - 2s - loss: 3.1266e-06 - acc: 0.9249 - val_loss: 1.1315e-06 - val_acc: 0.9290\n",
      "Epoch 49/50\n",
      "80000/80000 [==============================] - 2s - loss: 2.4202e-06 - acc: 0.9220 - val_loss: 2.9685e-06 - val_acc: 0.9206\n",
      "Epoch 50/50\n",
      "80000/80000 [==============================] - 2s - loss: 2.6459e-06 - acc: 0.9241 - val_loss: 1.0863e-06 - val_acc: 0.9300\n",
      "Training model with 8.0 SNR complete. Next.\n",
      "\n"
     ]
    }
   ],
   "source": [
    "for i in range(len(jsccModels)):\n",
    "  print \"Now compiling model with \" + str(SNR[i]) + \" SNR.\\n\"\n",
    "  jsccModels[i].compile(optimizer=Adam(lr=0.0005),\n",
    "                loss='mse',\n",
    "                metrics=['accuracy'])\n",
    "  print \"Model compilation complete. Begin training....\\n\"\n",
    "  history = jsccModels[i].fit(x = TrainX, y = Trainy, epochs = 50, \n",
    "                      verbose = 1, validation_data = (TestX, Testy), batch_size=180, shuffle=True)\n",
    "  #Plot_Acc(history, i)\n",
    "  print \"Training model with \" + str(SNR[i]) + \" SNR complete. Next.\\n\""
   ]
  },
  {
   "cell_type": "code",
   "execution_count": null,
   "metadata": {},
   "outputs": [],
   "source": []
  },
  {
   "cell_type": "code",
   "execution_count": null,
   "metadata": {},
   "outputs": [],
   "source": []
  },
  {
   "cell_type": "code",
   "execution_count": null,
   "metadata": {},
   "outputs": [],
   "source": []
  },
  {
   "cell_type": "code",
   "execution_count": 121,
   "metadata": {},
   "outputs": [
    {
     "data": {
      "text/plain": [
       "array([[7.54390936e-03, 3.40356099e-09, 8.67985131e-04, 4.35483968e-03,\n",
       "        1.20906690e-04, 1.06376191e-07, 7.58247566e-04],\n",
       "       [9.95610297e-01, 2.24623100e-15, 1.68870305e-04, 3.37765232e-04,\n",
       "        1.27669055e-05, 7.58326237e-08, 1.81135219e-05],\n",
       "       [7.24697933e-27, 9.99942541e-01, 1.12637387e-07, 1.38735011e-13,\n",
       "        4.75004369e-10, 2.16463471e-14, 1.14856152e-10],\n",
       "       [7.39437019e-05, 1.98796639e-04, 9.34920609e-01, 2.36729534e-06,\n",
       "        4.29559499e-03, 8.01818445e-03, 8.19139481e-02],\n",
       "       [1.36360143e-07, 5.51511004e-10, 8.22829952e-06, 9.99939680e-01,\n",
       "        1.03619229e-08, 8.81558852e-22, 9.82151905e-05],\n",
       "       [1.26735467e-04, 1.30032073e-04, 8.80171647e-05, 4.62756944e-08,\n",
       "        8.12470198e-01, 3.06466362e-03, 3.07228591e-04],\n",
       "       [2.11969609e-06, 2.50212433e-05, 8.58775184e-06, 1.37461131e-14,\n",
       "        8.11797101e-03, 9.95648444e-01, 6.20020501e-06],\n",
       "       [1.61703010e-05, 1.31235188e-02, 6.83814883e-02, 1.25217222e-04,\n",
       "        4.81363200e-03, 1.31057389e-03, 9.56000149e-01]], dtype=float32)"
      ]
     },
     "execution_count": 121,
     "metadata": {},
     "output_type": "execute_result"
    }
   ],
   "source": [
    "jsccModels[0].predict(signal)"
   ]
  },
  {
   "cell_type": "code",
   "execution_count": 101,
   "metadata": {
    "scrolled": true
   },
   "outputs": [
    {
     "data": {
      "image/png": "[encoded data removed]",
      "text/plain": [
       "<matplotlib.figure.Figure at 0x7f8a23790b90>"
      ]
     },
     "metadata": {},
     "output_type": "display_data"
    }
   ],
   "source": [
    "import matplotlib.pyplot as plt\n",
    "\n",
    "def Plot_Acc(history, i):\n",
    "  plt.plot(history.history['val_acc'])\n",
    "  plt.title('Reconstruction Accuracy vs. Epochs (SNR = ' + str(SNR[i]) + 'dB)')\n",
    "  plt.xlabel('Epochs')\n",
    "  plt.ylabel('Accuracy')\n",
    "  plt.show()\n",
    "\n",
    "Plot_Acc(history, 0)"
   ]
  },
  {
   "cell_type": "markdown",
   "metadata": {},
   "source": [
    "Please start here and load already trained models"
   ]
  },
  {
   "cell_type": "code",
   "execution_count": 74,
   "metadata": {},
   "outputs": [],
   "source": [
    "# import os\n",
    "# os.chdir('jscc_models_mse')"
   ]
  },
  {
   "cell_type": "code",
   "execution_count": 75,
   "metadata": {},
   "outputs": [],
   "source": [
    "# # Only use to save models\n",
    "# for i in range(len(jsccModels)):\n",
    "#     fName = 'mse_model_' + str(SNR[i]) + '.h5' \n",
    "#     jsccModels[i].save_weights(fName)"
   ]
  },
  {
   "cell_type": "code",
   "execution_count": 76,
   "metadata": {},
   "outputs": [],
   "source": [
    "# Only use to load models\n",
    "def Load_Model_Weights(testModel, snr):\n",
    "    fName = 'mse_model_' + str(snr) + '.h5'\n",
    "    testModel.compile(optimizer='adam',\n",
    "                    loss='mse',\n",
    "                    metrics=['categorical_accuracy'])\n",
    "    testModel.load_weights(fName) # by_name=True"
   ]
  },
  {
   "cell_type": "code",
   "execution_count": 8,
   "metadata": {},
   "outputs": [],
   "source": [
    "# test = BuildModel(0.61)\n",
    "# Load_Model_Weights(test, 10.0)\n",
    "# score = test.evaluate(TestX, Testy, verbose=1)"
   ]
  },
  {
   "cell_type": "code",
   "execution_count": 9,
   "metadata": {},
   "outputs": [],
   "source": [
    "# score"
   ]
  },
  {
   "cell_type": "code",
   "execution_count": 10,
   "metadata": {},
   "outputs": [],
   "source": [
    "# jsccModels[0].predict(np.array([[1,0,0,0,0,0,0]]))"
   ]
  },
  {
   "cell_type": "code",
   "execution_count": null,
   "metadata": {},
   "outputs": [],
   "source": []
  },
  {
   "cell_type": "markdown",
   "metadata": {},
   "source": [
    "Hamming code"
   ]
  },
  {
   "cell_type": "code",
   "execution_count": 46,
   "metadata": {},
   "outputs": [],
   "source": [
    "# p1, p2, d1, p3, d2, d3, d4\n",
    "codewords = [[-1,-1,-1,-1,-1,-1],\n",
    "             [-1,1,-1,1,-1,1],\n",
    "             [1,-1,-1,1,1,-1],\n",
    "             [1,1,-1,-1,1,1],\n",
    "             [1,1,1,-1,-1,-1],\n",
    "             [1,-1,1,1,-1,1],\n",
    "             [-1,1,1,1,1,-1],\n",
    "             [-1,-1,1,-1,1,1]]\n",
    "\n",
    "\n"
   ]
  },
  {
   "cell_type": "code",
   "execution_count": 47,
   "metadata": {},
   "outputs": [],
   "source": [
    "def HardDecode(arr):\n",
    "    narr = []\n",
    "    for element in arr:\n",
    "        if element > 0:\n",
    "            narr.append(1)\n",
    "        else:\n",
    "            narr.append(-1)\n",
    "    return narr\n",
    "\n",
    "# soft 7,4 hamming code\n",
    "# vesion can be 1 for 8 bit output or 2 for 7 bit\n",
    "def Hamming_Soft(inputs, stdev, version=1):\n",
    "    predicted = []\n",
    "    for msg in inputs:\n",
    "        code = codewords[signal.index(msg)]\n",
    "        encoded = code + stdev * np.random.randn(np.shape(code)[0]) # encoding\n",
    "        distances = [np.linalg.norm(np.array(encoded)-np.array(cword)) for cword in codewords]\n",
    "        if version==1:\n",
    "            predicted.append(target[np.argmin(distances)])\n",
    "        else:\n",
    "            predicted.append(signal[np.argmin(distances)])\n",
    "    return np.array(predicted)\n",
    "\n",
    "def Hamming_Hard(inputs, stdev, version=1):\n",
    "    predicted = []\n",
    "    for msg in inputs:\n",
    "        code = codewords[signal.index(msg)]\n",
    "        encoded = code + stdev * np.random.randn(np.shape(code)[0]) # encoding\n",
    "        encoded = HardDecode(encoded)\n",
    "        distances = [np.linalg.norm(np.array(encoded)-np.array(cword)) for cword in codewords]\n",
    "        if version==1:\n",
    "            predicted.append(target[np.argmin(distances)])\n",
    "        else:\n",
    "            predicted.append(signal[np.argmin(distances)])\n",
    "    return np.array(predicted)"
   ]
  },
  {
   "cell_type": "code",
   "execution_count": 48,
   "metadata": {},
   "outputs": [],
   "source": [
    "# # Testing!\n",
    "# Hamming_Soft(signal[0:4], stdRange[2])"
   ]
  },
  {
   "cell_type": "code",
   "execution_count": null,
   "metadata": {},
   "outputs": [],
   "source": []
  },
  {
   "cell_type": "markdown",
   "metadata": {},
   "source": [
    "**Evaluation Functions**"
   ]
  },
  {
   "cell_type": "code",
   "execution_count": 49,
   "metadata": {},
   "outputs": [],
   "source": [
    "# hamming distances\n",
    "hamming_distances = [[0,1,1,1,1,1,1,1],\n",
    "                     [1,0,2,2,2,2,2,2],\n",
    "                     [1,2,0,2,2,2,2,2],\n",
    "                     [1,2,2,0,2,2,2,2],\n",
    "                     [1,2,2,2,0,2,2,2],\n",
    "                     [1,2,2,2,2,0,2,2],\n",
    "                     [1,2,2,2,2,2,0,2],\n",
    "                     [1,2,2,2,2,2,2,0]]\n",
    "\n",
    "# bit error rate\n",
    "def BER(actual, predicted):\n",
    "    if len(actual) != len(predicted):\n",
    "        print \"BER error: Lengths do not match\"\n",
    "        return\n",
    "    \n",
    "    actSignalIndex = [target.index(act) for act in actual]\n",
    "    predSignalIndex = [[1,2,3,4,5,6,7,0][np.argmax(pred)] for pred in predicted]\n",
    "    \n",
    "    return np.mean([hamming_distances[i][j] for i,j in zip(actSignalIndex, predSignalIndex)]) / 7.0\n",
    "    \n",
    "    \n",
    "# block error rate\n",
    "def BLER(actual, predicted):\n",
    "    if len(actual) != len(predicted):\n",
    "        print \"BER error: Lengths do not match\"\n",
    "        return\n",
    "    \n",
    "    return np.mean([(np.argmax(act) != np.argmax(pred)) for act,pred in zip(actual, predicted)])\n",
    "\n",
    "def MSE(actual, predicted):\n",
    "    if len(actual) != len(predicted):\n",
    "        print \"BER error: Lengths do not match\"\n",
    "        return\n",
    "    \n",
    "    return np.mean([np.linalg.norm(np.array(act)-np.array(pred)) for act,pred in zip(actual, predicted)])\n",
    "    "
   ]
  },
  {
   "cell_type": "code",
   "execution_count": 50,
   "metadata": {},
   "outputs": [
    {
     "data": {
      "text/plain": [
       "1.2071067811865475"
      ]
     },
     "execution_count": 50,
     "metadata": {},
     "output_type": "execute_result"
    }
   ],
   "source": [
    "MSE(signal[2:4], signal[0:2])"
   ]
  },
  {
   "cell_type": "code",
   "execution_count": null,
   "metadata": {},
   "outputs": [],
   "source": []
  },
  {
   "cell_type": "code",
   "execution_count": null,
   "metadata": {},
   "outputs": [],
   "source": []
  },
  {
   "cell_type": "markdown",
   "metadata": {},
   "source": [
    "# DEMO"
   ]
  },
  {
   "cell_type": "code",
   "execution_count": 77,
   "metadata": {},
   "outputs": [],
   "source": [
    "import os\n",
    "os.chdir('/home/inimfon/Desktop/jscc_models_mse')"
   ]
  },
  {
   "cell_type": "code",
   "execution_count": 78,
   "metadata": {},
   "outputs": [],
   "source": [
    "# Test model from -1.0 dB to 10.0 dB\n",
    "\n",
    "SNR = np.arange(-1.0, 11.0, 0.5)\n",
    "stdRange = [( 6.0/(14*(10**(snr/10))) )**.5 for snr in SNR] \n",
    "# print stdRange"
   ]
  },
  {
   "cell_type": "code",
   "execution_count": 79,
   "metadata": {},
   "outputs": [],
   "source": [
    "# create channels at each SNR for our jscc model\n",
    "\n",
    "jsccModels = [BuildModel(std) for std in stdRange]"
   ]
  },
  {
   "cell_type": "code",
   "execution_count": 80,
   "metadata": {},
   "outputs": [],
   "source": [
    "# Dataset genetation\n",
    "signal =  [[0,0,0,0,0,0,0],\n",
    "           [1,0,0,0,0,0,0],\n",
    "           [0,1,0,0,0,0,0],\n",
    "           [0,0,1,0,0,0,0],\n",
    "           [0,0,0,1,0,0,0],\n",
    "           [0,0,0,0,1,0,0],\n",
    "           [0,0,0,0,0,1,0],\n",
    "           [0,0,0,0,0,0,1]]\n",
    "\n",
    "target =  [[0,0,0,0,0,0,0,1],\n",
    "           [1,0,0,0,0,0,0,0],\n",
    "           [0,1,0,0,0,0,0,0],\n",
    "           [0,0,1,0,0,0,0,0],\n",
    "           [0,0,0,1,0,0,0,0],\n",
    "           [0,0,0,0,1,0,0,0],\n",
    "           [0,0,0,0,0,1,0,0],\n",
    "           [0,0,0,0,0,0,1,0]]\n",
    "\n",
    "indexes = np.random.choice(8, 50000)\n",
    "\n",
    "DemoX = [signal[i] for i in indexes]\n",
    "Demoy = [target[i] for i in indexes]"
   ]
  },
  {
   "cell_type": "code",
   "execution_count": 81,
   "metadata": {},
   "outputs": [
    {
     "name": "stdout",
     "output_type": "stream",
     "text": [
      "Simulation on -1.0 complete!\n",
      "Simulation on -0.5 complete!\n",
      "Simulation on 0.0 complete!\n",
      "Simulation on 0.5 complete!\n",
      "Simulation on 1.0 complete!\n",
      "Simulation on 1.5 complete!\n",
      "Simulation on 2.0 complete!\n",
      "Simulation on 2.5 complete!\n",
      "Simulation on 3.0 complete!\n",
      "Simulation on 3.5 complete!\n",
      "Simulation on 4.0 complete!\n",
      "Simulation on 4.5 complete!\n",
      "Simulation on 5.0 complete!\n",
      "Simulation on 5.5 complete!\n",
      "Simulation on 6.0 complete!\n",
      "Simulation on 6.5 complete!\n",
      "Simulation on 7.0 complete!\n",
      "Simulation on 7.5 complete!\n",
      "Simulation on 8.0 complete!\n",
      "Simulation on 8.5 complete!\n",
      "Simulation on 9.0 complete!\n",
      "Simulation on 9.5 complete!\n",
      "Simulation on 10.0 complete!\n",
      "Simulation on 10.5 complete!\n"
     ]
    }
   ],
   "source": [
    "# test with jsccc model trained at 2.5 dB\n",
    "\n",
    "MSE_25 = []\n",
    "\n",
    "for i in range(len(jsccModels)):\n",
    "    Load_Model_Weights(jsccModels[i], 2.5)\n",
    "    DemoPred = jsccModels[i].predict(DemoX)\n",
    "    MSE_25.append(MSE(DemoX, DemoPred))\n",
    "    \n",
    "    print \"Simulation on \" + str(SNR[i]) + \" complete!\""
   ]
  },
  {
   "cell_type": "code",
   "execution_count": 82,
   "metadata": {},
   "outputs": [],
   "source": [
    "# create channels at each SNR for our jscc model\n",
    "\n",
    "jsccModels = [BuildModel(std) for std in stdRange]"
   ]
  },
  {
   "cell_type": "code",
   "execution_count": 83,
   "metadata": {},
   "outputs": [
    {
     "name": "stdout",
     "output_type": "stream",
     "text": [
      "Simulation on -1.0 complete!\n",
      "Simulation on -0.5 complete!\n",
      "Simulation on 0.0 complete!\n",
      "Simulation on 0.5 complete!\n",
      "Simulation on 1.0 complete!\n",
      "Simulation on 1.5 complete!\n",
      "Simulation on 2.0 complete!\n",
      "Simulation on 2.5 complete!\n",
      "Simulation on 3.0 complete!\n",
      "Simulation on 3.5 complete!\n",
      "Simulation on 4.0 complete!\n",
      "Simulation on 4.5 complete!\n",
      "Simulation on 5.0 complete!\n",
      "Simulation on 5.5 complete!\n",
      "Simulation on 6.0 complete!\n",
      "Simulation on 6.5 complete!\n",
      "Simulation on 7.0 complete!\n",
      "Simulation on 7.5 complete!\n",
      "Simulation on 8.0 complete!\n",
      "Simulation on 8.5 complete!\n",
      "Simulation on 9.0 complete!\n",
      "Simulation on 9.5 complete!\n",
      "Simulation on 10.0 complete!\n",
      "Simulation on 10.5 complete!\n"
     ]
    }
   ],
   "source": [
    "# test with jsccc model trained at 8.0 dB\n",
    "\n",
    "MSE_80 = []\n",
    "\n",
    "for i in range(len(jsccModels)):\n",
    "    Load_Model_Weights(jsccModels[i], 8.0)\n",
    "    DemoPred = jsccModels[i].predict(DemoX)\n",
    "    MSE_80.append(MSE(DemoX, DemoPred))\n",
    "    \n",
    "    print \"Simulation on \" + str(SNR[i]) + \" complete!\""
   ]
  },
  {
   "cell_type": "code",
   "execution_count": null,
   "metadata": {},
   "outputs": [],
   "source": []
  },
  {
   "cell_type": "code",
   "execution_count": 84,
   "metadata": {},
   "outputs": [
    {
     "name": "stdout",
     "output_type": "stream",
     "text": [
      "Simulation on -1.0 complete!\n",
      "Simulation on -0.5 complete!\n",
      "Simulation on 0.0 complete!\n",
      "Simulation on 0.5 complete!\n",
      "Simulation on 1.0 complete!\n",
      "Simulation on 1.5 complete!\n",
      "Simulation on 2.0 complete!\n",
      "Simulation on 2.5 complete!\n",
      "Simulation on 3.0 complete!\n",
      "Simulation on 3.5 complete!\n",
      "Simulation on 4.0 complete!\n",
      "Simulation on 4.5 complete!\n",
      "Simulation on 5.0 complete!\n",
      "Simulation on 5.5 complete!\n",
      "Simulation on 6.0 complete!\n",
      "Simulation on 6.5 complete!\n",
      "Simulation on 7.0 complete!\n",
      "Simulation on 7.5 complete!\n",
      "Simulation on 8.0 complete!\n",
      "Simulation on 8.5 complete!\n",
      "Simulation on 9.0 complete!\n",
      "Simulation on 9.5 complete!\n",
      "Simulation on 10.0 complete!\n",
      "Simulation on 10.5 complete!\n"
     ]
    }
   ],
   "source": [
    "# test with Hamming code\n",
    "\n",
    "MSE_hamming = []\n",
    "\n",
    "for i in range(len(stdRange)):\n",
    "    DemoPred = Hamming_Soft(DemoX, stdRange[i], version=2)\n",
    "    MSE_hamming.append(MSE(DemoX, DemoPred))\n",
    "    \n",
    "    print \"Simulation on \" + str(SNR[i]) + \" complete!\""
   ]
  },
  {
   "cell_type": "code",
   "execution_count": 85,
   "metadata": {},
   "outputs": [
    {
     "name": "stdout",
     "output_type": "stream",
     "text": [
      "Simulation on -1.0 complete!\n",
      "Simulation on -0.5 complete!\n",
      "Simulation on 0.0 complete!\n",
      "Simulation on 0.5 complete!\n",
      "Simulation on 1.0 complete!\n",
      "Simulation on 1.5 complete!\n",
      "Simulation on 2.0 complete!\n",
      "Simulation on 2.5 complete!\n",
      "Simulation on 3.0 complete!\n",
      "Simulation on 3.5 complete!\n",
      "Simulation on 4.0 complete!\n",
      "Simulation on 4.5 complete!\n",
      "Simulation on 5.0 complete!\n",
      "Simulation on 5.5 complete!\n",
      "Simulation on 6.0 complete!\n",
      "Simulation on 6.5 complete!\n",
      "Simulation on 7.0 complete!\n",
      "Simulation on 7.5 complete!\n",
      "Simulation on 8.0 complete!\n",
      "Simulation on 8.5 complete!\n",
      "Simulation on 9.0 complete!\n",
      "Simulation on 9.5 complete!\n",
      "Simulation on 10.0 complete!\n",
      "Simulation on 10.5 complete!\n"
     ]
    }
   ],
   "source": [
    "# test with Hamming code (hard decision)\n",
    "\n",
    "MSE_hamming_hard = []\n",
    "\n",
    "for i in range(len(stdRange)):\n",
    "    DemoPred = Hamming_Hard(DemoX, stdRange[i], version=2)\n",
    "    MSE_hamming_hard.append(MSE(DemoX, DemoPred))\n",
    "    \n",
    "    print \"Simulation on \" + str(SNR[i]) + \" complete!\""
   ]
  },
  {
   "cell_type": "code",
   "execution_count": 88,
   "metadata": {},
   "outputs": [
    {
     "data": {
      "image/png": "[encoded data removed]",
      "text/plain": [
       "<matplotlib.figure.Figure at 0x7f8a26949ad0>"
      ]
     },
     "metadata": {},
     "output_type": "display_data"
    }
   ],
   "source": [
    "import matplotlib.pyplot as plt\n",
    "# plot Bit Error results\n",
    "\n",
    "plt.plot(SNR, MSE_hamming, 'b-o', label='Soft Hamming code')\n",
    "plt.plot(SNR, MSE_25, 'g-o', label='jscc model (train-2.5 dB)') \n",
    "plt.plot(SNR, MSE_80, 'r-o', label='jscc model (train-8.0 dB)')\n",
    "plt.plot(SNR, MSE_hamming_hard, 'y-o', label='Hard Hamming code')\n",
    "\n",
    "plt.axis([-2, 10.5, 2e-4, 1])\n",
    "plt.xscale('linear')\n",
    "plt.yscale('log')\n",
    "plt.xlabel('SNR(dB)')\n",
    "plt.ylabel('MSE')\n",
    "plt.grid(True)\n",
    "plt.title('MSE vs SNR')\n",
    "plt.legend()\n",
    "plt.show()"
   ]
  },
  {
   "cell_type": "code",
   "execution_count": null,
   "metadata": {},
   "outputs": [],
   "source": []
  },
  {
   "cell_type": "code",
   "execution_count": null,
   "metadata": {},
   "outputs": [],
   "source": []
  }
 ],
 "metadata": {
  "colab": {
   "collapsed_sections": [],
   "name": "JSCC_multiple_models.ipynb",
   "provenance": [],
   "version": "0.3.2"
  },
  "kernelspec": {
   "display_name": "Python 2",
   "language": "python",
   "name": "python2"
  },
  "language_info": {
   "codemirror_mode": {
    "name": "ipython",
    "version": 2
   },
   "file_extension": ".py",
   "mimetype": "text/x-python",
   "name": "python",
   "nbconvert_exporter": "python",
   "pygments_lexer": "ipython2",
   "version": "2.7.13"
  }
 },
 "nbformat": 4,
 "nbformat_minor": 1
}
